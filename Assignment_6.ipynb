{
 "cells": [
  {
   "cell_type": "markdown",
   "id": "ee323021",
   "metadata": {},
   "source": [
    "1. What are escape characters, and how do you use them?\n",
    "\n",
    "Ans - To insert characters in a string that are illegal we use escape characters. They are backslash ( \\ ) followed by respextive character."
   ]
  },
  {
   "cell_type": "markdown",
   "id": "32a68e7f",
   "metadata": {},
   "source": [
    "2. What do the escape characters n and t stand for?\n",
    "\n",
    "Ans -\n",
    "\n",
    "n stands for new line\n",
    "\n",
    "t stands for tab"
   ]
  },
  {
   "cell_type": "markdown",
   "id": "1aa0cc6b",
   "metadata": {},
   "source": [
    "3. What is the way to include backslash characters in a string?\n",
    "\n",
    "Ans - s = '\\\\Tasks'"
   ]
  },
  {
   "cell_type": "markdown",
   "id": "4d8660fe",
   "metadata": {},
   "source": [
    "4. The string \"Howl's Moving Castle\" is a correct value. Why isn't the single quote character in the word Howl's not escaped a problem?\n",
    "\n",
    "Ans - The single quote in Howl's is fine because you've used double quotes to mark the beginning and end of the string."
   ]
  },
  {
   "cell_type": "markdown",
   "id": "d2c90d50",
   "metadata": {},
   "source": [
    "5. How do you write a string of newlines if you don't want to use the n character?\n",
    "\n",
    "Ans - we can use end = 'required value' in print statement"
   ]
  },
  {
   "cell_type": "markdown",
   "id": "0fc387d3",
   "metadata": {},
   "source": [
    "6. What are the values of the given expressions?\n",
    "\n",
    "'Hello, world!'[1] - 'e'\n",
    "'Hello, world!'[0:5] - Hello\n",
    "'Hello, world!'[:5] - 'Hello\n",
    "'Hello, world!'[3:] - 'lo, world!'"
   ]
  },
  {
   "cell_type": "markdown",
   "id": "b3f7e6d2",
   "metadata": {},
   "source": [
    "7. What are the values of the following expressions?\n",
    "\n",
    "'Hello'.upper() - 'HELLO'\n",
    "\n",
    "'Hello'.upper().isupper() - True\n",
    "\n",
    "'Hello'.upper().lower() - 'hello'"
   ]
  },
  {
   "cell_type": "markdown",
   "id": "7c38a12d",
   "metadata": {},
   "source": [
    "8. What are the values of the following expressions?\n",
    "\n",
    "'Remember, remember, the fifth of July.'.split() - ['Remember,', 'remember,', 'the', 'fifth', 'of', 'July.']\n",
    "\n",
    "'-'.join('There can only one.'.split()) - 'There-can-only-one.'"
   ]
  },
  {
   "cell_type": "markdown",
   "id": "56bb7692",
   "metadata": {},
   "source": [
    "9. What are the methods for right-justifying, left-justifying, and centering a string?\n",
    "\n",
    "Ans - \n",
    "\n",
    "left-justifying - It aligns the string according to the width given to the left and fills remaining space of line with given character and blank space if ‘ fillchr ‘ argument is not passed and.\n",
    "\n",
    "left-justifying - It aligns the string according to the width given to the right and fills remaining space of line with given character and blank space if ‘ fillchr ‘ argument is not passed and.\n",
    "\n",
    "centering - This function center aligns the string according to the width specified and fills remaining space of line with blank space if ‘ fillchr ‘ argument is not passed."
   ]
  },
  {
   "cell_type": "code",
   "execution_count": 11,
   "id": "f82179fb",
   "metadata": {},
   "outputs": [
    {
     "ename": "SyntaxError",
     "evalue": "invalid syntax (3406745994.py, line 3)",
     "output_type": "error",
     "traceback": [
      "\u001b[1;36m  Input \u001b[1;32mIn [11]\u001b[1;36m\u001b[0m\n\u001b[1;33m    Ans - srip() is used to remove whitespaces\u001b[0m\n\u001b[1;37m                         ^\u001b[0m\n\u001b[1;31mSyntaxError\u001b[0m\u001b[1;31m:\u001b[0m invalid syntax\n"
     ]
    }
   ],
   "source": [
    "10. What is the best way to remove whitespace characters from the start or end?\n",
    "\n",
    "Ans - srip() is used to remove whitespaces"
   ]
  },
  {
   "cell_type": "code",
   "execution_count": null,
   "id": "6c01ad90",
   "metadata": {},
   "outputs": [],
   "source": []
  }
 ],
 "metadata": {
  "kernelspec": {
   "display_name": "Python 3 (ipykernel)",
   "language": "python",
   "name": "python3"
  },
  "language_info": {
   "codemirror_mode": {
    "name": "ipython",
    "version": 3
   },
   "file_extension": ".py",
   "mimetype": "text/x-python",
   "name": "python",
   "nbconvert_exporter": "python",
   "pygments_lexer": "ipython3",
   "version": "3.10.5"
  }
 },
 "nbformat": 4,
 "nbformat_minor": 5
}
